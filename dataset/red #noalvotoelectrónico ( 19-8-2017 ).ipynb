{
 "cells": [
  {
   "cell_type": "code",
   "execution_count": 15,
   "metadata": {
    "collapsed": false
   },
   "outputs": [
    {
     "name": "stdout",
     "output_type": "stream",
     "text": [
      "Switching to API Credentials #0\n"
     ]
    }
   ],
   "source": [
    "import networkx as nx\n",
    "from twitter_api import API_HANDLER as TW\n",
    "import json\n",
    "from os.path import join"
   ]
  },
  {
   "cell_type": "code",
   "execution_count": 21,
   "metadata": {
    "collapsed": true
   },
   "outputs": [],
   "source": [
    "search_kw = \"#noalvotoelectronico\""
   ]
  },
  {
   "cell_type": "code",
   "execution_count": 23,
   "metadata": {
    "collapsed": true
   },
   "outputs": [],
   "source": [
    "import tweepy"
   ]
  },
  {
   "cell_type": "code",
   "execution_count": 33,
   "metadata": {
    "collapsed": true
   },
   "outputs": [],
   "source": [
    "tweets = []"
   ]
  },
  {
   "cell_type": "code",
   "execution_count": 34,
   "metadata": {
    "collapsed": true
   },
   "outputs": [],
   "source": [
    "for status in tweepy.Cursor(TW.conn_.search, q=search_kw, since='2017-08-12').items(5000):\n",
    "    tweets.append(status)"
   ]
  },
  {
   "cell_type": "code",
   "execution_count": 35,
   "metadata": {
    "collapsed": false
   },
   "outputs": [
    {
     "data": {
      "text/plain": [
       "879"
      ]
     },
     "execution_count": 35,
     "metadata": {},
     "output_type": "execute_result"
    }
   ],
   "source": [
    "len(tweets)"
   ]
  },
  {
   "cell_type": "code",
   "execution_count": 38,
   "metadata": {
    "collapsed": false
   },
   "outputs": [
    {
     "data": {
      "text/plain": [
       "datetime.datetime(2017, 8, 17, 6, 59, 5)"
      ]
     },
     "execution_count": 38,
     "metadata": {},
     "output_type": "execute_result"
    }
   ],
   "source": [
    "min(dates)"
   ]
  },
  {
   "cell_type": "code",
   "execution_count": 39,
   "metadata": {
    "collapsed": false
   },
   "outputs": [
    {
     "data": {
      "text/plain": [
       "datetime.datetime(2017, 8, 19, 15, 20, 11)"
      ]
     },
     "execution_count": 39,
     "metadata": {},
     "output_type": "execute_result"
    }
   ],
   "source": [
    "max(dates)"
   ]
  },
  {
   "cell_type": "code",
   "execution_count": 42,
   "metadata": {
    "collapsed": false
   },
   "outputs": [],
   "source": [
    "uids = [tw.author.id for tw in tweets]"
   ]
  },
  {
   "cell_type": "code",
   "execution_count": 44,
   "metadata": {
    "collapsed": false
   },
   "outputs": [
    {
     "data": {
      "text/plain": [
       "704"
      ]
     },
     "execution_count": 44,
     "metadata": {},
     "output_type": "execute_result"
    }
   ],
   "source": [
    "len(set(uids))"
   ]
  },
  {
   "cell_type": "code",
   "execution_count": 45,
   "metadata": {
    "collapsed": true
   },
   "outputs": [],
   "source": [
    "with open('uids.json', 'w') as f:\n",
    "    json.dump(uids, f)"
   ]
  },
  {
   "cell_type": "code",
   "execution_count": 46,
   "metadata": {
    "collapsed": true
   },
   "outputs": [],
   "source": [
    "g = nx.DiGraph()"
   ]
  },
  {
   "cell_type": "code",
   "execution_count": 74,
   "metadata": {
    "collapsed": false
   },
   "outputs": [],
   "source": [
    "pending = [uid for uid in uids if uid not in g.nodes()]"
   ]
  },
  {
   "cell_type": "code",
   "execution_count": 75,
   "metadata": {
    "collapsed": false
   },
   "outputs": [
    {
     "data": {
      "text/plain": [
       "0"
      ]
     },
     "execution_count": 75,
     "metadata": {},
     "output_type": "execute_result"
    }
   ],
   "source": [
    "len(pending)"
   ]
  },
  {
   "cell_type": "code",
   "execution_count": 72,
   "metadata": {
    "collapsed": false
   },
   "outputs": [
    {
     "name": "stdout",
     "output_type": "stream",
     "text": [
      "56044829\n",
      "175076240\n",
      "3402023547\n",
      "520719310\n",
      "178738217\n",
      "3117023434\n",
      "1714595449\n",
      "845326624350490624\n",
      "789662754617585668\n",
      "3794148313\n",
      "888090134826156037\n",
      "2367781093\n",
      "Switching to API Credentials #4\n",
      "183594075\n",
      "887860616815398913\n",
      "293009766\n",
      "721638883\n",
      "2278282993\n",
      "14739707\n",
      "70151740\n",
      "175914955\n",
      "4821152433\n",
      "118904443\n",
      "4821152433\n",
      "3411478462\n",
      "2970590415\n",
      "1477483549\n",
      "4860697042\n",
      "Switching to API Credentials #5\n",
      "49122393\n",
      "1488969584\n",
      "156253838\n",
      "156253838\n",
      "156253838\n",
      "2970590415\n",
      "156253838\n",
      "156253838\n",
      "555370464\n",
      "156253838\n",
      "156253838\n",
      "156253838\n",
      "156253838\n",
      "156253838\n",
      "Switching to API Credentials #6\n",
      "156253838\n",
      "156253838\n",
      "890365215522598912\n",
      "156253838\n",
      "209758465\n",
      "2780654617\n",
      "2780654617\n",
      "4529350978\n",
      "733773845732175876\n",
      "362428679\n",
      "228518150\n",
      "797167556\n",
      "259083899\n",
      "Switching to API Credentials #7\n",
      "138616367\n",
      "867223140\n",
      "3174356038\n",
      "885686448128757760\n",
      "334158015\n",
      "758081734126764032\n",
      "833426540486651904\n",
      "4796914342\n",
      "2742301169\n",
      "4747304488\n",
      "1723003434\n",
      "212319838\n",
      "867223140\n",
      "820433814\n",
      "254332074\n",
      "Switching to API Credentials #8\n",
      "204786449\n",
      "1219342280\n",
      "4867386509\n",
      "4867386509\n",
      "4856371019\n",
      "2866305122\n",
      "46587924\n",
      "17105128\n",
      "4788557789\n",
      "2479854210\n",
      "177771740\n",
      "4613454256\n",
      "4218378754\n",
      "78130737\n",
      "Switching to API Credentials #9\n",
      "812029820913778688\n",
      "4821152433\n",
      "887816608290418688\n",
      "4821152433\n",
      "4821152433\n",
      "15631146\n",
      "771018370867167232\n",
      "760650995877765121\n",
      "176621875\n",
      "751173202634739712\n",
      "4860697042\n",
      "3004645121\n",
      "3004645121\n",
      "814913738486743040\n",
      "Switching to API Credentials #10\n",
      "753395922621632513\n",
      "18587715\n",
      "2279333654\n",
      "174104151\n",
      "2950602369\n",
      "175535863\n",
      "366439399\n",
      "4143350903\n",
      "2918881563\n",
      "2416240405\n",
      "390680620\n",
      "792921973881987074\n",
      "734210172315394049\n",
      "3065833408\n",
      "35744627\n",
      "Switching to API Credentials #11\n",
      "1327744813\n",
      "728676452367929345\n",
      "18587715\n",
      "319182270\n",
      "1191424400\n",
      "1219342280\n",
      "586953797\n",
      "4476196415\n",
      "1635912877\n",
      "3398160195\n",
      "3398160195\n",
      "569488159\n",
      "620906192\n",
      "21111224\n",
      "Switching to API Credentials #12\n",
      "2533109552\n",
      "610918686\n",
      "854639998766919681\n",
      "3092203215\n",
      "1557056743\n",
      "779299860\n",
      "3557052615\n",
      "1252345320\n",
      "857069909473468416\n",
      "746123742573662210\n",
      "267287349\n",
      "4843835669\n",
      "Switching to API Credentials #13\n",
      "2205950088\n",
      "4824875320\n",
      "210295257\n",
      "254405003\n",
      "891075258\n",
      "2189481835\n",
      "716764722285162496\n",
      "254405003\n",
      "279318348\n",
      "987262435\n",
      "829401204329414657\n",
      "3410662881\n",
      "1479908803\n",
      "253810468\n",
      "Switching to API Credentials #14\n",
      "713477440765562880\n",
      "3290077371\n",
      "2957388742\n",
      "2590663331\n",
      "4836071896\n",
      "210962297\n",
      "2765706388\n",
      "4775888476\n",
      "832437979230720000\n",
      "1955336053\n",
      "17105128\n",
      "777896745380507648\n",
      "1463569830\n",
      "208577217\n",
      "Switching to API Credentials #15\n",
      "159927368\n",
      "4822499295\n",
      "3807862876\n",
      "1301334254\n",
      "252029166\n",
      "2918881563\n",
      "4821152433\n",
      "2416240405\n",
      "770756809334325248\n",
      "175185277\n",
      "58861810\n",
      "4821152433\n",
      "Switching to API Credentials #16\n",
      "4821152433\n",
      "208716513\n",
      "6968862\n",
      "845703963823521793\n",
      "781849538931879940\n",
      "4319800456\n",
      "1511149974\n",
      "151030551\n",
      "6975342\n",
      "4454642973\n",
      "2829187318\n",
      "319594285\n",
      "2846144781\n",
      "451511921\n",
      "816669399562289152\n",
      "Switching to API Credentials #17\n",
      "158517384\n",
      "862023992\n",
      "1140730826\n",
      "473387156\n",
      "805052616015224832\n",
      "4706706640\n",
      "258456189\n",
      "843971557475172357\n",
      "1228337593\n",
      "4774247901\n",
      "Switching to API Credentials #18\n",
      "891780029297954816\n",
      "886290453032816644\n",
      "183594075\n",
      "4794320967\n",
      "281787727\n",
      "2354256511\n",
      "304451291\n",
      "190821722\n",
      "78697425\n",
      "143123233\n",
      "118904443\n",
      "4570874421\n",
      "867123451\n",
      "860441228\n",
      "Switching to API Credentials #0\n",
      "2992428713\n",
      "348632765\n",
      "324208281\n",
      "262616630\n",
      "209659788\n",
      "261176271\n",
      "4529350978\n",
      "1333088743\n",
      "Switching to API Credentials #1\n",
      "812364034141982720\n",
      "196693485\n",
      "82137226\n",
      "211187016\n",
      "17105128\n",
      "1084939458\n",
      "58563653\n",
      "175914955\n",
      "118904443\n",
      "4657089975\n",
      "134194919\n"
     ]
    },
    {
     "ename": "TweepError",
     "evalue": "Not authorized.",
     "output_type": "error",
     "traceback": [
      "\u001b[0;31m---------------------------------------------------------------------------\u001b[0m",
      "\u001b[0;31mTweepError\u001b[0m                                Traceback (most recent call last)",
      "\u001b[0;32m<ipython-input-72-0db975328820>\u001b[0m in \u001b[0;36m<module>\u001b[0;34m()\u001b[0m\n\u001b[1;32m      2\u001b[0m \u001b[0;31m# for uid in pending:\u001b[0m\u001b[0;34m\u001b[0m\u001b[0;34m\u001b[0m\u001b[0m\n\u001b[1;32m      3\u001b[0m     \u001b[0;32mprint\u001b[0m \u001b[0muid\u001b[0m\u001b[0;34m\u001b[0m\u001b[0m\n\u001b[0;32m----> 4\u001b[0;31m     \u001b[0mfids\u001b[0m \u001b[0;34m=\u001b[0m \u001b[0;34m[\u001b[0m\u001b[0mint\u001b[0m\u001b[0;34m(\u001b[0m\u001b[0mfid\u001b[0m\u001b[0;34m)\u001b[0m \u001b[0;32mfor\u001b[0m \u001b[0mfid\u001b[0m \u001b[0;32min\u001b[0m \u001b[0mTW\u001b[0m\u001b[0;34m.\u001b[0m\u001b[0mtraer_seguidos\u001b[0m\u001b[0;34m(\u001b[0m\u001b[0muser_id\u001b[0m\u001b[0;34m=\u001b[0m\u001b[0muid\u001b[0m\u001b[0;34m)\u001b[0m \u001b[0;32mif\u001b[0m \u001b[0mint\u001b[0m\u001b[0;34m(\u001b[0m\u001b[0mfid\u001b[0m\u001b[0;34m)\u001b[0m \u001b[0;32min\u001b[0m \u001b[0muids\u001b[0m\u001b[0;34m]\u001b[0m\u001b[0;34m\u001b[0m\u001b[0m\n\u001b[0m\u001b[1;32m      5\u001b[0m     \u001b[0mg\u001b[0m\u001b[0;34m.\u001b[0m\u001b[0madd_node\u001b[0m\u001b[0;34m(\u001b[0m\u001b[0muid\u001b[0m\u001b[0;34m)\u001b[0m\u001b[0;34m\u001b[0m\u001b[0m\n\u001b[1;32m      6\u001b[0m     \u001b[0mg\u001b[0m\u001b[0;34m.\u001b[0m\u001b[0madd_edges_from\u001b[0m\u001b[0;34m(\u001b[0m\u001b[0;34m[\u001b[0m\u001b[0;34m(\u001b[0m\u001b[0muid\u001b[0m\u001b[0;34m,\u001b[0m \u001b[0mfid\u001b[0m\u001b[0;34m)\u001b[0m \u001b[0;32mfor\u001b[0m \u001b[0mfid\u001b[0m \u001b[0;32min\u001b[0m \u001b[0mfids\u001b[0m\u001b[0;34m]\u001b[0m\u001b[0;34m)\u001b[0m\u001b[0;34m\u001b[0m\u001b[0m\n",
      "\u001b[0;32m/home/pablo/Proyectos/linkpred_eaia/twitter_api.py\u001b[0m in \u001b[0;36mtraer_seguidos\u001b[0;34m(self, **kwargs)\u001b[0m\n\u001b[1;32m    111\u001b[0m             \u001b[0;32mexcept\u001b[0m \u001b[0mTweepError\u001b[0m\u001b[0;34m,\u001b[0m \u001b[0me\u001b[0m\u001b[0;34m:\u001b[0m\u001b[0;34m\u001b[0m\u001b[0m\n\u001b[1;32m    112\u001b[0m                 \u001b[0;32mif\u001b[0m \u001b[0;32mnot\u001b[0m \u001b[0;34m'rate limit'\u001b[0m \u001b[0;32min\u001b[0m \u001b[0me\u001b[0m\u001b[0;34m.\u001b[0m\u001b[0mreason\u001b[0m\u001b[0;34m.\u001b[0m\u001b[0mlower\u001b[0m\u001b[0;34m(\u001b[0m\u001b[0;34m)\u001b[0m\u001b[0;34m:\u001b[0m\u001b[0;34m\u001b[0m\u001b[0m\n\u001b[0;32m--> 113\u001b[0;31m                     \u001b[0;32mraise\u001b[0m \u001b[0me\u001b[0m\u001b[0;34m\u001b[0m\u001b[0m\n\u001b[0m\u001b[1;32m    114\u001b[0m                 \u001b[0;32melse\u001b[0m\u001b[0;34m:\u001b[0m\u001b[0;34m\u001b[0m\u001b[0m\n\u001b[1;32m    115\u001b[0m                     \u001b[0mconns_tried\u001b[0m \u001b[0;34m+=\u001b[0m \u001b[0;36m1\u001b[0m\u001b[0;34m\u001b[0m\u001b[0m\n",
      "\u001b[0;31mTweepError\u001b[0m: Not authorized."
     ]
    }
   ],
   "source": [
    "for uid in uids:\n",
    "# for uid in pending:\n",
    "    print uid\n",
    "    fids = [int(fid) for fid in TW.traer_seguidos(user_id=uid) if int(fid) in uids]\n",
    "    g.add_node(uid)\n",
    "    g.add_edges_from([(uid, fid) for fid in fids])"
   ]
  },
  {
   "cell_type": "code",
   "execution_count": 73,
   "metadata": {
    "collapsed": true
   },
   "outputs": [],
   "source": [
    "nx.write_graphml(g, 'noalvc.graphml')"
   ]
  }
 ],
 "metadata": {
  "kernelspec": {
   "display_name": "Python 2",
   "language": "python",
   "name": "python2"
  },
  "language_info": {
   "codemirror_mode": {
    "name": "ipython",
    "version": 2
   },
   "file_extension": ".py",
   "mimetype": "text/x-python",
   "name": "python",
   "nbconvert_exporter": "python",
   "pygments_lexer": "ipython2",
   "version": "2.7.11+"
  }
 },
 "nbformat": 4,
 "nbformat_minor": 0
}
