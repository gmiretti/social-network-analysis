{
 "cells": [
  {
   "cell_type": "code",
   "execution_count": 1,
   "metadata": {
    "collapsed": false
   },
   "outputs": [
    {
     "name": "stdout",
     "output_type": "stream",
     "text": [
      "Switching to API Credentials #17\n"
     ]
    }
   ],
   "source": [
    "import networkx as nx\n",
    "from twitter_api import API_HANDLER as TW\n",
    "import json\n",
    "from os.path import join"
   ]
  },
  {
   "cell_type": "code",
   "execution_count": 2,
   "metadata": {
    "collapsed": true
   },
   "outputs": [],
   "source": [
    "with open('uids.json') as f:\n",
    "    uids = json.load(f)"
   ]
  },
  {
   "cell_type": "code",
   "execution_count": 3,
   "metadata": {
    "collapsed": true
   },
   "outputs": [],
   "source": [
    "g = nx.DiGraph()"
   ]
  },
  {
   "cell_type": "code",
   "execution_count": 4,
   "metadata": {
    "collapsed": false
   },
   "outputs": [],
   "source": [
    "pending = [uid for uid in uids if uid not in g.nodes()]"
   ]
  },
  {
   "cell_type": "code",
   "execution_count": 5,
   "metadata": {
    "collapsed": false
   },
   "outputs": [
    {
     "data": {
      "text/plain": [
       "879"
      ]
     },
     "execution_count": 5,
     "metadata": {},
     "output_type": "execute_result"
    }
   ],
   "source": [
    "len(pending)"
   ]
  },
  {
   "cell_type": "code",
   "execution_count": 6,
   "metadata": {
    "collapsed": true
   },
   "outputs": [],
   "source": [
    "from tweepy import TweepError"
   ]
  },
  {
   "cell_type": "code",
   "execution_count": 8,
   "metadata": {
    "collapsed": true
   },
   "outputs": [],
   "source": [
    "failed_uids = []"
   ]
  },
  {
   "cell_type": "code",
   "execution_count": null,
   "metadata": {
    "collapsed": false
   },
   "outputs": [
    {
     "name": "stdout",
     "output_type": "stream",
     "text": [
      "56044829\n",
      "175076240\n",
      "3402023547\n",
      "520719310\n",
      "178738217\n",
      "3117023434\n",
      "1714595449\n",
      "845326624350490624\n",
      "789662754617585668\n",
      "3794148313\n",
      "888090134826156037\n",
      "2367781093\n",
      "Switching to API Credentials #18\n",
      "183594075\n",
      "887860616815398913\n",
      "293009766\n",
      "721638883\n",
      "2278282993\n",
      "14739707\n",
      "70151740\n",
      "175914955\n",
      "4821152433\n",
      "118904443\n",
      "4821152433\n",
      "3411478462\n",
      "2970590415\n",
      "1477483549\n",
      "4860697042\n",
      "Switching to API Credentials #0\n",
      "49122393\n",
      "1488969584\n",
      "156253838\n",
      "156253838\n",
      "156253838\n",
      "2970590415\n",
      "156253838\n",
      "156253838\n",
      "555370464\n",
      "156253838\n",
      "156253838\n",
      "156253838\n",
      "156253838\n",
      "156253838\n",
      "Switching to API Credentials #1\n",
      "156253838\n",
      "156253838\n",
      "890365215522598912\n",
      "156253838\n",
      "209758465\n",
      "2780654617\n",
      "2780654617\n",
      "4529350978\n",
      "733773845732175876\n",
      "362428679\n",
      "228518150\n",
      "797167556\n",
      "259083899\n",
      "Switching to API Credentials #2\n",
      "138616367\n",
      "867223140\n",
      "3174356038\n",
      "885686448128757760\n",
      "334158015\n",
      "758081734126764032\n",
      "833426540486651904\n",
      "4796914342\n",
      "2742301169\n",
      "4747304488\n",
      "1723003434\n",
      "212319838\n",
      "867223140\n",
      "820433814\n",
      "254332074\n",
      "Switching to API Credentials #3\n",
      "204786449\n",
      "1219342280\n",
      "4867386509\n",
      "4867386509\n",
      "4856371019\n",
      "2866305122\n",
      "46587924\n",
      "17105128\n",
      "4788557789\n",
      "2479854210\n",
      "177771740\n",
      "4613454256\n",
      "4218378754\n",
      "78130737\n",
      "Switching to API Credentials #4\n",
      "812029820913778688\n",
      "4821152433\n",
      "887816608290418688\n",
      "4821152433\n",
      "4821152433\n",
      "15631146\n",
      "771018370867167232\n",
      "760650995877765121\n",
      "176621875\n",
      "751173202634739712\n",
      "4860697042\n",
      "3004645121\n",
      "3004645121\n",
      "814913738486743040\n",
      "753395922621632513\n",
      "Switching to API Credentials #5\n",
      "18587715\n",
      "2279333654\n",
      "174104151\n",
      "2950602369\n",
      "175535863\n",
      "366439399\n",
      "4143350903\n",
      "2918881563\n",
      "2416240405\n",
      "390680620\n",
      "792921973881987074\n",
      "734210172315394049\n",
      "3065833408\n",
      "35744627\n",
      "Switching to API Credentials #6\n",
      "1327744813\n",
      "728676452367929345\n",
      "18587715\n",
      "319182270\n",
      "1191424400\n"
     ]
    }
   ],
   "source": [
    "for uid in uids:\n",
    "# for uid in pending:\n",
    "    print uid\n",
    "    try:\n",
    "        fids = [int(fid) for fid in TW.traer_seguidos(user_id=uid) if int(fid) in uids]\n",
    "    except TweepError:\n",
    "        failed_uids.append(uid)\n",
    "        continue\n",
    "    g.add_node(uid)\n",
    "    g.add_edges_from([(uid, fid) for fid in fids])"
   ]
  },
  {
   "cell_type": "code",
   "execution_count": null,
   "metadata": {
    "collapsed": true
   },
   "outputs": [],
   "source": [
    "nx.write_graphml(g, 'noalvc_09_02.graphml')"
   ]
  },
  {
   "cell_type": "code",
   "execution_count": null,
   "metadata": {
    "collapsed": false
   },
   "outputs": [],
   "source": [
    "failed_uids"
   ]
  }
 ],
 "metadata": {
  "kernelspec": {
   "display_name": "Python 2",
   "language": "python",
   "name": "python2"
  },
  "language_info": {
   "codemirror_mode": {
    "name": "ipython",
    "version": 2
   },
   "file_extension": ".py",
   "mimetype": "text/x-python",
   "name": "python",
   "nbconvert_exporter": "python",
   "pygments_lexer": "ipython2",
   "version": "2.7.11+"
  }
 },
 "nbformat": 4,
 "nbformat_minor": 0
}
